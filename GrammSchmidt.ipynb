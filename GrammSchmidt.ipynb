{
 "cells": [
  {
   "cell_type": "markdown",
   "metadata": {},
   "source": [
    "https://en.wikipedia.org/wiki/Gram%E2%80%93Schmidt_process#Example\n",
    "\n",
    "https://dkenefake.github.io/blog/Orthoginalization"
   ]
  },
  {
   "cell_type": "code",
   "execution_count": 23,
   "metadata": {},
   "outputs": [
    {
     "data": {
      "text/plain": [
       "array([0.4, 0.8, 0. ])"
      ]
     },
     "execution_count": 23,
     "metadata": {},
     "output_type": "execute_result"
    }
   ],
   "source": [
    "import numpy as np\n",
    "\n",
    "def projection(u: np.array, v: np.array) -> np.array:\n",
    "    \"\"\"\n",
    "    Returns the projection of vector v onto vector u\n",
    "    \"\"\"\n",
    "    assert u.shape == v.shape, \"Vectors must have the same shape\"\n",
    "    proj = np.dot(u, v) / np.dot(u, u) * u\n",
    "    return proj\n",
    "\n",
    "projection(np.array([1, 2, 0]), np.array([2, 0, 0]))"
   ]
  },
  {
   "cell_type": "code",
   "execution_count": 26,
   "metadata": {},
   "outputs": [
    {
     "data": {
      "text/plain": [
       "array([[1., 0., 0.],\n",
       "       [0., 1., 0.],\n",
       "       [0., 0., 1.],\n",
       "       [0., 0., 0.]])"
      ]
     },
     "execution_count": 26,
     "metadata": {},
     "output_type": "execute_result"
    }
   ],
   "source": [
    "def gram_schmidt(vectors: np.array) -> np.array:\n",
    "    \"\"\"\n",
    "    Takes an array of input vectors and performs Gram-Schmidt orthogonalization\n",
    "    to produce an orthonormal basis\n",
    "    \"\"\"\n",
    "    # Make a copy of the input vectors that is all zeros\n",
    "    output = np.zeros(vectors.shape)\n",
    "    output[0] = vectors[0]\n",
    "\n",
    "    for i in range(1, vectors.shape[0]):\n",
    "        v = vectors[i]\n",
    "        for j in range(i):\n",
    "            u = output[j]\n",
    "            v = v - projection(u, vectors[i])\n",
    "        output[i] = v\n",
    "    \n",
    "    return output\n",
    "\n",
    "test = gram_schmidt(np.array([[1, 0, 0], [1, 1, 0], [1, 1, 1], [2, 3, 4]]))\n",
    "test"
   ]
  },
  {
   "cell_type": "code",
   "execution_count": 32,
   "metadata": {},
   "outputs": [
    {
     "data": {
      "text/plain": [
       "(np.int64(1), 4)"
      ]
     },
     "execution_count": 32,
     "metadata": {},
     "output_type": "execute_result"
    }
   ],
   "source": [
    "def zero_counter(matrix: np.array) -> int:\n",
    "    \"\"\"\n",
    "    Returns the number of rows which are all zeros\n",
    "    \"\"\"\n",
    "    return np.sum(np.all(matrix == 0, axis=1)), np.shape(matrix)[0]\n",
    "\n",
    "zero_counter(test)"
   ]
  },
  {
   "cell_type": "code",
   "execution_count": 37,
   "metadata": {},
   "outputs": [
    {
     "name": "stdout",
     "output_type": "stream",
     "text": [
      "[[9 8 9]\n",
      " [7 8 3]\n",
      " [9 7 6]\n",
      " [5 8 4]\n",
      " [4 3 3]\n",
      " [3 9 7]\n",
      " [9 0 1]\n",
      " [6 8 5]\n",
      " [6 0 2]\n",
      " [4 7 2]]\n",
      "[[ 9.00000000e+00  8.00000000e+00  9.00000000e+00]\n",
      " [ 8.67256637e-01  2.54867257e+00 -3.13274336e+00]\n",
      " [ 1.04564315e+00 -7.84232365e-01 -3.48547718e-01]\n",
      " [ 1.77635684e-15 -3.55271368e-15  2.77555756e-16]\n",
      " [ 3.04761905e-01 -6.09523810e-01  4.76190476e-02]\n",
      " [ 5.53547133e+00 -1.10709427e+01  8.64917396e-01]\n",
      " [-5.46705539e+00  1.09341108e+01 -8.54227405e-01]\n",
      " [ 7.33916424e+00 -1.46783285e+01  1.14674441e+00]\n",
      " [-6.28182702e+00  1.25636540e+01 -9.81535471e-01]\n",
      " [ 1.15685131e+01 -2.31370262e+01  1.80758017e+00]]\n"
     ]
    },
    {
     "data": {
      "text/plain": [
       "(np.int64(0), 10)"
      ]
     },
     "execution_count": 37,
     "metadata": {},
     "output_type": "execute_result"
    }
   ],
   "source": [
    "# Generate a random numpy array of shape (10, 3)\n",
    "random_array = np.random.randint(0, 10, (10, 3))\n",
    "print(random_array)\n",
    "test2 = gram_schmidt(random_array)\n",
    "print(test2)\n",
    "zero_counter(test2)"
   ]
  },
  {
   "cell_type": "markdown",
   "metadata": {},
   "source": [
    "Need to modify this to adapt to floating point stuff"
   ]
  },
  {
   "cell_type": "code",
   "execution_count": 44,
   "metadata": {},
   "outputs": [
    {
     "name": "stdout",
     "output_type": "stream",
     "text": [
      "[[0 0 3]\n",
      " [3 0 2]\n",
      " [2 2 3]\n",
      " [2 0 0]\n",
      " [4 2 2]\n",
      " [4 4 0]\n",
      " [3 4 1]\n",
      " [3 3 2]\n",
      " [1 0 2]\n",
      " [2 0 1]]\n",
      "[[ 0.  0.  3.]\n",
      " [ 3.  0.  0.]\n",
      " [ 0.  2.  0.]\n",
      " [ 0.  0.  0.]\n",
      " [nan nan nan]\n",
      " [nan nan nan]\n",
      " [nan nan nan]\n",
      " [nan nan nan]\n",
      " [nan nan nan]\n",
      " [nan nan nan]]\n"
     ]
    },
    {
     "name": "stderr",
     "output_type": "stream",
     "text": [
      "C:\\Users\\hd15639\\AppData\\Local\\Temp\\ipykernel_24436\\3740485388.py:8: RuntimeWarning: invalid value encountered in scalar divide\n",
      "  proj = np.dot(u, v) / np.dot(u, u) * u\n"
     ]
    },
    {
     "data": {
      "text/plain": [
       "(np.int64(7), (10, 3))"
      ]
     },
     "execution_count": 44,
     "metadata": {},
     "output_type": "execute_result"
    }
   ],
   "source": [
    "def modifiedGramSchmidt(vectors: np.array) -> np.array:\n",
    "    \"\"\"\n",
    "    Takes an array of input vectors and performs Gram-Schmidt orthogonalization\n",
    "    to produce an orthonormal basis\n",
    "    More resistant to floating point drama but takes longer to run\n",
    "    \"\"\"\n",
    "    # Make a copy of the input vectors that is all zeros\n",
    "    output = np.zeros(vectors.shape)\n",
    "    near_output = output\n",
    "    near_output[0] = vectors[0]\n",
    "\n",
    "    for i in range(1, vectors.shape[0]):\n",
    "        v = vectors[i]\n",
    "        for j in range(i):\n",
    "            u = output[j]\n",
    "            v = v - projection(u, vectors[i])\n",
    "        near_output[i] = v\n",
    "    \n",
    "    output[0] = near_output[0]\n",
    "    for i in range(1, vectors.shape[0]):\n",
    "        output[i] = near_output[i]\n",
    "        for j in range(i):\n",
    "            output[i] = output[i] - projection(output[j], near_output[i])\n",
    "        output[i] = output[i]\n",
    "\n",
    "    return output\n",
    "\n",
    "random_array = np.random.randint(5, size=(10, 3))\n",
    "print(random_array)\n",
    "test3 = modifiedGramSchmidt(random_array)\n",
    "print(test3)\n",
    "# Now outputs zeros and NaNs\n",
    "\n",
    "def zero_nan_counter(matrix: np.array) -> int:\n",
    "    \"\"\"\n",
    "    Returns the number of rows which are all zeros or contain NaNs\n",
    "    \"\"\"\n",
    "    return np.sum(np.all(np.isnan(matrix) | (matrix == 0), axis=1)), np.shape(matrix)\n",
    "\n",
    "zero_nan_counter(test3)\n"
   ]
  },
  {
   "cell_type": "markdown",
   "metadata": {},
   "source": [
    "https://dkenefake.github.io/blog/Orthoginalization"
   ]
  },
  {
   "cell_type": "markdown",
   "metadata": {},
   "source": [
    "Now to modify the above process so it produces vectors which are nearly orthogonal"
   ]
  },
  {
   "cell_type": "code",
   "execution_count": null,
   "metadata": {},
   "outputs": [],
   "source": []
  }
 ],
 "metadata": {
  "kernelspec": {
   "display_name": "superposition",
   "language": "python",
   "name": "python3"
  },
  "language_info": {
   "codemirror_mode": {
    "name": "ipython",
    "version": 3
   },
   "file_extension": ".py",
   "mimetype": "text/x-python",
   "name": "python",
   "nbconvert_exporter": "python",
   "pygments_lexer": "ipython3",
   "version": "3.13.1"
  }
 },
 "nbformat": 4,
 "nbformat_minor": 2
}
